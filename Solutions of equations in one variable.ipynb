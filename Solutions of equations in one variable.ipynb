{
 "cells": [
  {
   "cell_type": "code",
   "execution_count": null,
   "metadata": {},
   "outputs": [],
   "source": [
    "import math"
   ]
  },
  {
   "cell_type": "markdown",
   "metadata": {},
   "source": [
    "## Regula Falsi"
   ]
  },
  {
   "cell_type": "code",
   "execution_count": 112,
   "metadata": {},
   "outputs": [],
   "source": [
    "# this functions approximates the root of an equation using the regula falsi method\n",
    "def regula_falsi(f, p0, p1, tol, N, d=10):\n",
    "    # step1\n",
    "    i = 2\n",
    "    q0 = f(p0)\n",
    "    q1 = f(p1)\n",
    "    \n",
    "    #step 2\n",
    "    while i <= N:\n",
    "        # step 3\n",
    "        p = p1 - q1*(p1 - p0)/(q1 - q0)\n",
    "        \n",
    "        #step 4\n",
    "        if abs(p - p1) < tol or i == N:\n",
    "            return round(p, d), i\n",
    "        \n",
    "        # step 5\n",
    "        i = i + 1\n",
    "        q = f(p)\n",
    "        \n",
    "        #step 6\n",
    "        if q*q1 < 0 :\n",
    "            p0 = p1\n",
    "            q0 = q1\n",
    "        \n",
    "        # step 7\n",
    "        p1 = p\n",
    "        q1 = q\n",
    "    \n",
    "    #step 8\n",
    "    return 'Method failed after N iterations'"
   ]
  },
  {
   "cell_type": "code",
   "execution_count": 99,
   "metadata": {},
   "outputs": [],
   "source": [
    "def my_func(x):\n",
    "    return (x*math.exp(x) - 2)"
   ]
  },
  {
   "cell_type": "code",
   "execution_count": 105,
   "metadata": {},
   "outputs": [
    {
     "data": {
      "text/plain": [
       "(0.852604866, 7)"
      ]
     },
     "execution_count": 105,
     "metadata": {},
     "output_type": "execute_result"
    }
   ],
   "source": [
    "regula_falsi(my_func, p0=0.5, p1=1, tol=.00001, N=9)"
   ]
  },
  {
   "cell_type": "markdown",
   "metadata": {},
   "source": [
    "## Secant"
   ]
  },
  {
   "cell_type": "code",
   "execution_count": 113,
   "metadata": {},
   "outputs": [],
   "source": [
    "# this functions approximates the root of an equation using the secant method\n",
    "def secant(f, p0, p1, tol, N, d=10):\n",
    "    #step1\n",
    "    i = 2\n",
    "    q0 = f(p0)\n",
    "    q1 = f(p1)\n",
    "    \n",
    "    #step2\n",
    "    while i <= N:\n",
    "        #step3\n",
    "        p = p1 - q1*(p1 - p0)/(q1 - q0)\n",
    "        \n",
    "        #step4\n",
    "        if abs(p - p1) < tol or i == N:\n",
    "            return round(p, d), i\n",
    "        \n",
    "        #step5\n",
    "        i = i + 1\n",
    "        \n",
    "        #step6\n",
    "        p0 = p1\n",
    "        q0 = q1\n",
    "        p1 = p\n",
    "        q1 = f(p)\n",
    "        \n",
    "    #step8\n",
    "    return 'Method failed after N iterations'"
   ]
  },
  {
   "cell_type": "code",
   "execution_count": 107,
   "metadata": {},
   "outputs": [],
   "source": [
    "def my_func(x):\n",
    "    return (x*math.exp(x) - 2)"
   ]
  },
  {
   "cell_type": "code",
   "execution_count": 114,
   "metadata": {},
   "outputs": [
    {
     "data": {
      "text/plain": [
       "(0.8526049569776, 5)"
      ]
     },
     "execution_count": 114,
     "metadata": {},
     "output_type": "execute_result"
    }
   ],
   "source": [
    "secant(my_func, p0=0.5, p1=1, tol=.001, N=6, d=14)"
   ]
  },
  {
   "cell_type": "code",
   "execution_count": 110,
   "metadata": {
    "scrolled": true
   },
   "outputs": [
    {
     "data": {
      "text/plain": [
       "0.7182818284590451"
      ]
     },
     "execution_count": 110,
     "metadata": {},
     "output_type": "execute_result"
    }
   ],
   "source": [
    "my_func(1)"
   ]
  },
  {
   "cell_type": "code",
   "execution_count": null,
   "metadata": {},
   "outputs": [],
   "source": []
  }
 ],
 "metadata": {
  "kernelspec": {
   "display_name": "Python 2",
   "language": "python",
   "name": "python2"
  },
  "language_info": {
   "codemirror_mode": {
    "name": "ipython",
    "version": 2
   },
   "file_extension": ".py",
   "mimetype": "text/x-python",
   "name": "python",
   "nbconvert_exporter": "python",
   "pygments_lexer": "ipython2",
   "version": "2.7.14"
  }
 },
 "nbformat": 4,
 "nbformat_minor": 2
}
